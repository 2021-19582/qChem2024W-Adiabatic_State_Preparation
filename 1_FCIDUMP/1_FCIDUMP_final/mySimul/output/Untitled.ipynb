{
 "cells": [
  {
   "cell_type": "code",
   "execution_count": 1,
   "id": "891199ee",
   "metadata": {},
   "outputs": [
    {
     "ename": "SyntaxError",
     "evalue": "invalid decimal literal (2015651985.py, line 1)",
     "output_type": "error",
     "traceback": [
      "\u001b[1;36m  Cell \u001b[1;32mIn[1], line 1\u001b[1;36m\u001b[0m\n\u001b[1;33m    block2main DMRG.conf > 00007_DMRG.out\u001b[0m\n\u001b[1;37m                                ^\u001b[0m\n\u001b[1;31mSyntaxError\u001b[0m\u001b[1;31m:\u001b[0m invalid decimal literal\n"
     ]
    }
   ],
   "source": [
    "block2main DMRG.conf > 00007_DMRG.out"
   ]
  },
  {
   "cell_type": "code",
   "execution_count": 2,
   "id": "15baf239",
   "metadata": {},
   "outputs": [],
   "source": [
    "%pip install cxx-compiler\n",
    "%pip install make\n",
    "%pip install scipy\n",
    "%pip install h5py\n",
    "%pip install git\n",
    "%pip install pyscf\n",
    "%pip install cmake"
   ]
  },
  {
   "cell_type": "code",
   "execution_count": 15,
   "id": "b307653b",
   "metadata": {},
   "outputs": [
    {
     "name": "stdout",
     "output_type": "stream",
     "text": [
      "Requirement already satisfied: pip in c:\\users\\amych\\appdata\\local\\programs\\python\\python311\\lib\\site-packages (23.3.1)\n",
      "Collecting pip\n",
      "  Downloading pip-23.3.2-py3-none-any.whl.metadata (3.5 kB)\n",
      "Downloading pip-23.3.2-py3-none-any.whl (2.1 MB)\n",
      "   ---------------------------------------- 0.0/2.1 MB ? eta -:--:--\n",
      "    --------------------------------------- 0.0/2.1 MB ? eta -:--:--\n",
      "   --- ------------------------------------ 0.2/2.1 MB 2.5 MB/s eta 0:00:01\n",
      "   ----- ---------------------------------- 0.3/2.1 MB 2.6 MB/s eta 0:00:01\n",
      "   ------- -------------------------------- 0.4/2.1 MB 2.8 MB/s eta 0:00:01\n",
      "   ---------- ----------------------------- 0.6/2.1 MB 3.0 MB/s eta 0:00:01\n",
      "   ------------- -------------------------- 0.7/2.1 MB 3.2 MB/s eta 0:00:01\n",
      "   ---------------- ----------------------- 0.9/2.1 MB 3.2 MB/s eta 0:00:01\n",
      "   ------------------- -------------------- 1.0/2.1 MB 3.3 MB/s eta 0:00:01\n",
      "   --------------------- ------------------ 1.1/2.1 MB 3.4 MB/s eta 0:00:01\n",
      "   ----------------------- ---------------- 1.2/2.1 MB 3.1 MB/s eta 0:00:01\n",
      "   ------------------------ --------------- 1.3/2.1 MB 3.0 MB/s eta 0:00:01\n",
      "   ------------------------- -------------- 1.3/2.1 MB 2.8 MB/s eta 0:00:01\n",
      "   -------------------------- ------------- 1.4/2.1 MB 2.7 MB/s eta 0:00:01\n",
      "   ----------------------------- ---------- 1.6/2.1 MB 2.8 MB/s eta 0:00:01\n",
      "   --------------------------------- ------ 1.8/2.1 MB 3.0 MB/s eta 0:00:01\n",
      "   ------------------------------------ --- 1.9/2.1 MB 3.0 MB/s eta 0:00:01\n",
      "   ---------------------------------------  2.1/2.1 MB 3.0 MB/s eta 0:00:01\n",
      "   ---------------------------------------- 2.1/2.1 MB 2.9 MB/s eta 0:00:00\n",
      "Installing collected packages: pip\n",
      "  Attempting uninstall: pip\n",
      "    Found existing installation: pip 23.3.1\n",
      "    Uninstalling pip-23.3.1:\n",
      "      Successfully uninstalled pip-23.3.1\n",
      "Successfully installed pip-23.3.2\n",
      "Note: you may need to restart the kernel to use updated packages.\n"
     ]
    }
   ],
   "source": [
    " pip install --upgrade pip"
   ]
  },
  {
   "cell_type": "code",
   "execution_count": null,
   "id": "e15f1413",
   "metadata": {},
   "outputs": [],
   "source": []
  }
 ],
 "metadata": {
  "kernelspec": {
   "display_name": "Python 3 (ipykernel)",
   "language": "python",
   "name": "python3"
  },
  "language_info": {
   "codemirror_mode": {
    "name": "ipython",
    "version": 3
   },
   "file_extension": ".py",
   "mimetype": "text/x-python",
   "name": "python",
   "nbconvert_exporter": "python",
   "pygments_lexer": "ipython3",
   "version": "3.11.3"
  }
 },
 "nbformat": 4,
 "nbformat_minor": 5
}
